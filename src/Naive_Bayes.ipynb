{
    "cells": [
        {
            "cell_type": "markdown",
            "metadata": {},
            "source": [
                "### Step 1: Loading the dataset"
            ]
        },
        {
            "cell_type": "code",
            "execution_count": 387,
            "metadata": {},
            "outputs": [],
            "source": [
                "import pandas as pd\n",
                "import numpy as np\n",
                "import re\n",
                "from sklearn.model_selection import train_test_split\n",
                "from sklearn.feature_extraction.text import CountVectorizer\n",
                "import matplotlib.pyplot as plt\n",
                "import seaborn as sns\n",
                "from sklearn.naive_bayes import GaussianNB\n",
                "from sklearn.naive_bayes import MultinomialNB\n",
                "from sklearn.naive_bayes import BernoulliNB\n",
                "from sklearn.metrics import accuracy_score\n",
                "from sklearn.model_selection import RandomizedSearchCV\n",
                "from pickle import dump\n",
                "from sklearn.tree import DecisionTreeClassifier\n",
                "from sklearn.linear_model import LogisticRegression\n",
                "from sklearn.ensemble import RandomForestClassifier\n",
                "from xgboost import XGBClassifier\n",
                "from sklearn.metrics import roc_curve\n",
                "from sklearn.metrics import roc_auc_score\n",
                "from matplotlib import pyplot\n",
                "\n"
            ]
        },
        {
            "cell_type": "code",
            "execution_count": 388,
            "metadata": {},
            "outputs": [],
            "source": [
                "url = 'https://raw.githubusercontent.com/4GeeksAcademy/naive-bayes-project-tutorial/main/playstore_reviews.csv'\n",
                "data_reviews = pd.read_csv(url, sep=',')\n",
                "data_reviews.to_csv('/workspaces/JLL_Naive_Bayes_ML/data/raw/playstore_reviews.csv', index = False)"
            ]
        },
        {
            "cell_type": "markdown",
            "metadata": {},
            "source": [
                "### Step 2: Study of variables and their content"
            ]
        },
        {
            "cell_type": "code",
            "execution_count": 389,
            "metadata": {},
            "outputs": [
                {
                    "data": {
                        "text/html": [
                            "<div>\n",
                            "<style scoped>\n",
                            "    .dataframe tbody tr th:only-of-type {\n",
                            "        vertical-align: middle;\n",
                            "    }\n",
                            "\n",
                            "    .dataframe tbody tr th {\n",
                            "        vertical-align: top;\n",
                            "    }\n",
                            "\n",
                            "    .dataframe thead th {\n",
                            "        text-align: right;\n",
                            "    }\n",
                            "</style>\n",
                            "<table border=\"1\" class=\"dataframe\">\n",
                            "  <thead>\n",
                            "    <tr style=\"text-align: right;\">\n",
                            "      <th></th>\n",
                            "      <th>package_name</th>\n",
                            "      <th>review</th>\n",
                            "      <th>polarity</th>\n",
                            "    </tr>\n",
                            "  </thead>\n",
                            "  <tbody>\n",
                            "    <tr>\n",
                            "      <th>0</th>\n",
                            "      <td>com.facebook.katana</td>\n",
                            "      <td>privacy at least put some option appear offli...</td>\n",
                            "      <td>0</td>\n",
                            "    </tr>\n",
                            "    <tr>\n",
                            "      <th>1</th>\n",
                            "      <td>com.facebook.katana</td>\n",
                            "      <td>messenger issues ever since the last update, ...</td>\n",
                            "      <td>0</td>\n",
                            "    </tr>\n",
                            "    <tr>\n",
                            "      <th>2</th>\n",
                            "      <td>com.facebook.katana</td>\n",
                            "      <td>profile any time my wife or anybody has more ...</td>\n",
                            "      <td>0</td>\n",
                            "    </tr>\n",
                            "    <tr>\n",
                            "      <th>3</th>\n",
                            "      <td>com.facebook.katana</td>\n",
                            "      <td>the new features suck for those of us who don...</td>\n",
                            "      <td>0</td>\n",
                            "    </tr>\n",
                            "    <tr>\n",
                            "      <th>4</th>\n",
                            "      <td>com.facebook.katana</td>\n",
                            "      <td>forced reload on uploading pic on replying co...</td>\n",
                            "      <td>0</td>\n",
                            "    </tr>\n",
                            "  </tbody>\n",
                            "</table>\n",
                            "</div>"
                        ],
                        "text/plain": [
                            "          package_name                                             review  \\\n",
                            "0  com.facebook.katana   privacy at least put some option appear offli...   \n",
                            "1  com.facebook.katana   messenger issues ever since the last update, ...   \n",
                            "2  com.facebook.katana   profile any time my wife or anybody has more ...   \n",
                            "3  com.facebook.katana   the new features suck for those of us who don...   \n",
                            "4  com.facebook.katana   forced reload on uploading pic on replying co...   \n",
                            "\n",
                            "   polarity  \n",
                            "0         0  \n",
                            "1         0  \n",
                            "2         0  \n",
                            "3         0  \n",
                            "4         0  "
                        ]
                    },
                    "execution_count": 389,
                    "metadata": {},
                    "output_type": "execute_result"
                }
            ],
            "source": [
                "data_reviews = pd.read_csv('/workspaces/JLL_Naive_Bayes_ML/data/raw/playstore_reviews.csv', sep=',')\n",
                "data_reviews.head()"
            ]
        },
        {
            "cell_type": "markdown",
            "metadata": {},
            "source": [
                "***Delete non-relevant information***"
            ]
        },
        {
            "cell_type": "code",
            "execution_count": 390,
            "metadata": {},
            "outputs": [],
            "source": [
                "data_reviews.drop('package_name', axis=1, inplace=True)\n"
            ]
        },
        {
            "cell_type": "markdown",
            "metadata": {},
            "source": [
                "***Removing spaces and converting the text to lowercase***"
            ]
        },
        {
            "cell_type": "code",
            "execution_count": 391,
            "metadata": {},
            "outputs": [],
            "source": [
                "def clean_text(review):\n",
                "    return re.sub(r'[^\\w\\s]', '', str(review))\n",
                "\n",
                "data_reviews[\"review\"] = data_reviews[\"review\"].str.strip().str.lower()\n",
                "data_reviews[\"review\"] = data_reviews[\"review\"].apply(clean_text)\n"
            ]
        },
        {
            "cell_type": "markdown",
            "metadata": {},
            "source": [
                "***Divide the dataset into train and test:***"
            ]
        },
        {
            "cell_type": "code",
            "execution_count": 392,
            "metadata": {},
            "outputs": [],
            "source": [
                "X = data_reviews['review']\n",
                "y = data_reviews['polarity']\n",
                "\n",
                "X_train, X_test, y_train, y_test = train_test_split(X, y, test_size=0.2, random_state=42)"
            ]
        },
        {
            "cell_type": "markdown",
            "metadata": {},
            "source": [
                "***Transform the text into a word count matrix***"
            ]
        },
        {
            "cell_type": "code",
            "execution_count": 393,
            "metadata": {},
            "outputs": [],
            "source": [
                "vec_model = CountVectorizer(stop_words = \"english\")\n",
                "X_train = vec_model.fit_transform(X_train).toarray()\n",
                "X_test = vec_model.transform(X_test).toarray()"
            ]
        },
        {
            "cell_type": "markdown",
            "metadata": {},
            "source": [
                "### Step 3: Build a naive bayes model"
            ]
        },
        {
            "cell_type": "markdown",
            "metadata": {},
            "source": [
                "*I select the MultinomialNB, because the data  with classification with features representing discrete counts or frequencies*"
            ]
        },
        {
            "cell_type": "code",
            "execution_count": 394,
            "metadata": {},
            "outputs": [
                {
                    "data": {
                        "text/html": [
                            "<style>#sk-container-id-53 {color: black;}#sk-container-id-53 pre{padding: 0;}#sk-container-id-53 div.sk-toggleable {background-color: white;}#sk-container-id-53 label.sk-toggleable__label {cursor: pointer;display: block;width: 100%;margin-bottom: 0;padding: 0.3em;box-sizing: border-box;text-align: center;}#sk-container-id-53 label.sk-toggleable__label-arrow:before {content: \"▸\";float: left;margin-right: 0.25em;color: #696969;}#sk-container-id-53 label.sk-toggleable__label-arrow:hover:before {color: black;}#sk-container-id-53 div.sk-estimator:hover label.sk-toggleable__label-arrow:before {color: black;}#sk-container-id-53 div.sk-toggleable__content {max-height: 0;max-width: 0;overflow: hidden;text-align: left;background-color: #f0f8ff;}#sk-container-id-53 div.sk-toggleable__content pre {margin: 0.2em;color: black;border-radius: 0.25em;background-color: #f0f8ff;}#sk-container-id-53 input.sk-toggleable__control:checked~div.sk-toggleable__content {max-height: 200px;max-width: 100%;overflow: auto;}#sk-container-id-53 input.sk-toggleable__control:checked~label.sk-toggleable__label-arrow:before {content: \"▾\";}#sk-container-id-53 div.sk-estimator input.sk-toggleable__control:checked~label.sk-toggleable__label {background-color: #d4ebff;}#sk-container-id-53 div.sk-label input.sk-toggleable__control:checked~label.sk-toggleable__label {background-color: #d4ebff;}#sk-container-id-53 input.sk-hidden--visually {border: 0;clip: rect(1px 1px 1px 1px);clip: rect(1px, 1px, 1px, 1px);height: 1px;margin: -1px;overflow: hidden;padding: 0;position: absolute;width: 1px;}#sk-container-id-53 div.sk-estimator {font-family: monospace;background-color: #f0f8ff;border: 1px dotted black;border-radius: 0.25em;box-sizing: border-box;margin-bottom: 0.5em;}#sk-container-id-53 div.sk-estimator:hover {background-color: #d4ebff;}#sk-container-id-53 div.sk-parallel-item::after {content: \"\";width: 100%;border-bottom: 1px solid gray;flex-grow: 1;}#sk-container-id-53 div.sk-label:hover label.sk-toggleable__label {background-color: #d4ebff;}#sk-container-id-53 div.sk-serial::before {content: \"\";position: absolute;border-left: 1px solid gray;box-sizing: border-box;top: 0;bottom: 0;left: 50%;z-index: 0;}#sk-container-id-53 div.sk-serial {display: flex;flex-direction: column;align-items: center;background-color: white;padding-right: 0.2em;padding-left: 0.2em;position: relative;}#sk-container-id-53 div.sk-item {position: relative;z-index: 1;}#sk-container-id-53 div.sk-parallel {display: flex;align-items: stretch;justify-content: center;background-color: white;position: relative;}#sk-container-id-53 div.sk-item::before, #sk-container-id-53 div.sk-parallel-item::before {content: \"\";position: absolute;border-left: 1px solid gray;box-sizing: border-box;top: 0;bottom: 0;left: 50%;z-index: -1;}#sk-container-id-53 div.sk-parallel-item {display: flex;flex-direction: column;z-index: 1;position: relative;background-color: white;}#sk-container-id-53 div.sk-parallel-item:first-child::after {align-self: flex-end;width: 50%;}#sk-container-id-53 div.sk-parallel-item:last-child::after {align-self: flex-start;width: 50%;}#sk-container-id-53 div.sk-parallel-item:only-child::after {width: 0;}#sk-container-id-53 div.sk-dashed-wrapped {border: 1px dashed gray;margin: 0 0.4em 0.5em 0.4em;box-sizing: border-box;padding-bottom: 0.4em;background-color: white;}#sk-container-id-53 div.sk-label label {font-family: monospace;font-weight: bold;display: inline-block;line-height: 1.2em;}#sk-container-id-53 div.sk-label-container {text-align: center;}#sk-container-id-53 div.sk-container {/* jupyter's `normalize.less` sets `[hidden] { display: none; }` but bootstrap.min.css set `[hidden] { display: none !important; }` so we also need the `!important` here to be able to override the default hidden behavior on the sphinx rendered scikit-learn.org. See: https://github.com/scikit-learn/scikit-learn/issues/21755 */display: inline-block !important;position: relative;}#sk-container-id-53 div.sk-text-repr-fallback {display: none;}</style><div id=\"sk-container-id-53\" class=\"sk-top-container\"><div class=\"sk-text-repr-fallback\"><pre>MultinomialNB()</pre><b>In a Jupyter environment, please rerun this cell to show the HTML representation or trust the notebook. <br />On GitHub, the HTML representation is unable to render, please try loading this page with nbviewer.org.</b></div><div class=\"sk-container\" hidden><div class=\"sk-item\"><div class=\"sk-estimator sk-toggleable\"><input class=\"sk-toggleable__control sk-hidden--visually\" id=\"sk-estimator-id-89\" type=\"checkbox\" checked><label for=\"sk-estimator-id-89\" class=\"sk-toggleable__label sk-toggleable__label-arrow\">MultinomialNB</label><div class=\"sk-toggleable__content\"><pre>MultinomialNB()</pre></div></div></div></div></div>"
                        ],
                        "text/plain": [
                            "MultinomialNB()"
                        ]
                    },
                    "execution_count": 394,
                    "metadata": {},
                    "output_type": "execute_result"
                }
            ],
            "source": [
                "model = MultinomialNB()\n",
                "model.fit(X_train, y_train)"
            ]
        },
        {
            "cell_type": "code",
            "execution_count": 395,
            "metadata": {},
            "outputs": [
                {
                    "data": {
                        "text/plain": [
                            "array([0, 0, 1, 0, 0, 0, 0, 1, 0, 0, 0, 0, 1, 0, 0, 1, 0, 1, 1, 0, 0, 0,\n",
                            "       1, 1, 0, 0, 0, 1, 0, 0, 1, 0, 0, 0, 0, 1, 0, 1, 1, 0, 0, 0, 1, 0,\n",
                            "       0, 0, 0, 0, 0, 1, 0, 1, 0, 0, 0, 0, 0, 0, 0, 0, 0, 0, 0, 0, 0, 0,\n",
                            "       0, 0, 0, 1, 0, 0, 0, 1, 1, 1, 0, 1, 0, 0, 0, 0, 0, 0, 0, 1, 0, 0,\n",
                            "       1, 0, 1, 0, 0, 0, 0, 0, 0, 0, 0, 0, 0, 0, 0, 0, 1, 0, 0, 0, 0, 0,\n",
                            "       1, 0, 1, 0, 1, 1, 0, 0, 1, 0, 0, 0, 0, 0, 0, 1, 1, 0, 0, 1, 0, 0,\n",
                            "       0, 0, 1, 1, 0, 0, 1, 0, 0, 1, 0, 0, 0, 0, 0, 0, 0, 1, 1, 0, 1, 0,\n",
                            "       0, 1, 0, 0, 0, 0, 1, 0, 0, 0, 0, 0, 0, 0, 1, 0, 0, 0, 1, 0, 0, 1,\n",
                            "       0, 0, 0])"
                        ]
                    },
                    "execution_count": 395,
                    "metadata": {},
                    "output_type": "execute_result"
                }
            ],
            "source": [
                "y_pred = model.predict(X_test)\n",
                "y_pred"
            ]
        },
        {
            "cell_type": "code",
            "execution_count": 396,
            "metadata": {},
            "outputs": [
                {
                    "data": {
                        "text/plain": [
                            "0.7988826815642458"
                        ]
                    },
                    "execution_count": 396,
                    "metadata": {},
                    "output_type": "execute_result"
                }
            ],
            "source": [
                "accuracy_score(y_test, y_pred)"
            ]
        },
        {
            "cell_type": "markdown",
            "metadata": {},
            "source": [
                "*I will test the other sklearn Naive Bayes models:*"
            ]
        },
        {
            "cell_type": "code",
            "execution_count": 397,
            "metadata": {},
            "outputs": [
                {
                    "name": "stdout",
                    "output_type": "stream",
                    "text": [
                        "GaussianNB() with accuracy: 0.7988826815642458\n",
                        "BernoulliNB() with accuracy: 0.770949720670391\n"
                    ]
                }
            ],
            "source": [
                "for model_aux in [GaussianNB(), BernoulliNB()]:\n",
                "    model_aux.fit(X_train, y_train)\n",
                "    y_pred_aux = model_aux.predict(X_test)\n",
                "    print(f\"{model_aux} with accuracy: {accuracy_score(y_test, y_pred_aux)}\")"
            ]
        },
        {
            "cell_type": "markdown",
            "metadata": {},
            "source": [
                "***I can confirm that the best model is the one I have chosen based on its theoretical foundation***"
            ]
        },
        {
            "cell_type": "markdown",
            "metadata": {},
            "source": [
                "### Optimize the model"
            ]
        },
        {
            "cell_type": "code",
            "execution_count": 398,
            "metadata": {},
            "outputs": [
                {
                    "data": {
                        "text/html": [
                            "<style>#sk-container-id-54 {color: black;}#sk-container-id-54 pre{padding: 0;}#sk-container-id-54 div.sk-toggleable {background-color: white;}#sk-container-id-54 label.sk-toggleable__label {cursor: pointer;display: block;width: 100%;margin-bottom: 0;padding: 0.3em;box-sizing: border-box;text-align: center;}#sk-container-id-54 label.sk-toggleable__label-arrow:before {content: \"▸\";float: left;margin-right: 0.25em;color: #696969;}#sk-container-id-54 label.sk-toggleable__label-arrow:hover:before {color: black;}#sk-container-id-54 div.sk-estimator:hover label.sk-toggleable__label-arrow:before {color: black;}#sk-container-id-54 div.sk-toggleable__content {max-height: 0;max-width: 0;overflow: hidden;text-align: left;background-color: #f0f8ff;}#sk-container-id-54 div.sk-toggleable__content pre {margin: 0.2em;color: black;border-radius: 0.25em;background-color: #f0f8ff;}#sk-container-id-54 input.sk-toggleable__control:checked~div.sk-toggleable__content {max-height: 200px;max-width: 100%;overflow: auto;}#sk-container-id-54 input.sk-toggleable__control:checked~label.sk-toggleable__label-arrow:before {content: \"▾\";}#sk-container-id-54 div.sk-estimator input.sk-toggleable__control:checked~label.sk-toggleable__label {background-color: #d4ebff;}#sk-container-id-54 div.sk-label input.sk-toggleable__control:checked~label.sk-toggleable__label {background-color: #d4ebff;}#sk-container-id-54 input.sk-hidden--visually {border: 0;clip: rect(1px 1px 1px 1px);clip: rect(1px, 1px, 1px, 1px);height: 1px;margin: -1px;overflow: hidden;padding: 0;position: absolute;width: 1px;}#sk-container-id-54 div.sk-estimator {font-family: monospace;background-color: #f0f8ff;border: 1px dotted black;border-radius: 0.25em;box-sizing: border-box;margin-bottom: 0.5em;}#sk-container-id-54 div.sk-estimator:hover {background-color: #d4ebff;}#sk-container-id-54 div.sk-parallel-item::after {content: \"\";width: 100%;border-bottom: 1px solid gray;flex-grow: 1;}#sk-container-id-54 div.sk-label:hover label.sk-toggleable__label {background-color: #d4ebff;}#sk-container-id-54 div.sk-serial::before {content: \"\";position: absolute;border-left: 1px solid gray;box-sizing: border-box;top: 0;bottom: 0;left: 50%;z-index: 0;}#sk-container-id-54 div.sk-serial {display: flex;flex-direction: column;align-items: center;background-color: white;padding-right: 0.2em;padding-left: 0.2em;position: relative;}#sk-container-id-54 div.sk-item {position: relative;z-index: 1;}#sk-container-id-54 div.sk-parallel {display: flex;align-items: stretch;justify-content: center;background-color: white;position: relative;}#sk-container-id-54 div.sk-item::before, #sk-container-id-54 div.sk-parallel-item::before {content: \"\";position: absolute;border-left: 1px solid gray;box-sizing: border-box;top: 0;bottom: 0;left: 50%;z-index: -1;}#sk-container-id-54 div.sk-parallel-item {display: flex;flex-direction: column;z-index: 1;position: relative;background-color: white;}#sk-container-id-54 div.sk-parallel-item:first-child::after {align-self: flex-end;width: 50%;}#sk-container-id-54 div.sk-parallel-item:last-child::after {align-self: flex-start;width: 50%;}#sk-container-id-54 div.sk-parallel-item:only-child::after {width: 0;}#sk-container-id-54 div.sk-dashed-wrapped {border: 1px dashed gray;margin: 0 0.4em 0.5em 0.4em;box-sizing: border-box;padding-bottom: 0.4em;background-color: white;}#sk-container-id-54 div.sk-label label {font-family: monospace;font-weight: bold;display: inline-block;line-height: 1.2em;}#sk-container-id-54 div.sk-label-container {text-align: center;}#sk-container-id-54 div.sk-container {/* jupyter's `normalize.less` sets `[hidden] { display: none; }` but bootstrap.min.css set `[hidden] { display: none !important; }` so we also need the `!important` here to be able to override the default hidden behavior on the sphinx rendered scikit-learn.org. See: https://github.com/scikit-learn/scikit-learn/issues/21755 */display: inline-block !important;position: relative;}#sk-container-id-54 div.sk-text-repr-fallback {display: none;}</style><div id=\"sk-container-id-54\" class=\"sk-top-container\"><div class=\"sk-text-repr-fallback\"><pre>RandomizedSearchCV(cv=5, estimator=MultinomialNB(), n_iter=50,\n",
                            "                   param_distributions={&#x27;alpha&#x27;: array([ 0.01      ,  0.53578947,  1.06157895,  1.58736842,  2.11315789,\n",
                            "        2.63894737,  3.16473684,  3.69052632,  4.21631579,  4.74210526,\n",
                            "        5.26789474,  5.79368421,  6.31947368,  6.84526316,  7.37105263,\n",
                            "        7.89684211,  8.42263158,  8.94842105,  9.47421053, 10.        ]),\n",
                            "                                        &#x27;force_alpha&#x27;: [True, False]},\n",
                            "                   random_state=42, scoring=&#x27;accuracy&#x27;)</pre><b>In a Jupyter environment, please rerun this cell to show the HTML representation or trust the notebook. <br />On GitHub, the HTML representation is unable to render, please try loading this page with nbviewer.org.</b></div><div class=\"sk-container\" hidden><div class=\"sk-item sk-dashed-wrapped\"><div class=\"sk-label-container\"><div class=\"sk-label sk-toggleable\"><input class=\"sk-toggleable__control sk-hidden--visually\" id=\"sk-estimator-id-90\" type=\"checkbox\" ><label for=\"sk-estimator-id-90\" class=\"sk-toggleable__label sk-toggleable__label-arrow\">RandomizedSearchCV</label><div class=\"sk-toggleable__content\"><pre>RandomizedSearchCV(cv=5, estimator=MultinomialNB(), n_iter=50,\n",
                            "                   param_distributions={&#x27;alpha&#x27;: array([ 0.01      ,  0.53578947,  1.06157895,  1.58736842,  2.11315789,\n",
                            "        2.63894737,  3.16473684,  3.69052632,  4.21631579,  4.74210526,\n",
                            "        5.26789474,  5.79368421,  6.31947368,  6.84526316,  7.37105263,\n",
                            "        7.89684211,  8.42263158,  8.94842105,  9.47421053, 10.        ]),\n",
                            "                                        &#x27;force_alpha&#x27;: [True, False]},\n",
                            "                   random_state=42, scoring=&#x27;accuracy&#x27;)</pre></div></div></div><div class=\"sk-parallel\"><div class=\"sk-parallel-item\"><div class=\"sk-item\"><div class=\"sk-label-container\"><div class=\"sk-label sk-toggleable\"><input class=\"sk-toggleable__control sk-hidden--visually\" id=\"sk-estimator-id-91\" type=\"checkbox\" ><label for=\"sk-estimator-id-91\" class=\"sk-toggleable__label sk-toggleable__label-arrow\">estimator: MultinomialNB</label><div class=\"sk-toggleable__content\"><pre>MultinomialNB()</pre></div></div></div><div class=\"sk-serial\"><div class=\"sk-item\"><div class=\"sk-estimator sk-toggleable\"><input class=\"sk-toggleable__control sk-hidden--visually\" id=\"sk-estimator-id-92\" type=\"checkbox\" ><label for=\"sk-estimator-id-92\" class=\"sk-toggleable__label sk-toggleable__label-arrow\">MultinomialNB</label><div class=\"sk-toggleable__content\"><pre>MultinomialNB()</pre></div></div></div></div></div></div></div></div></div></div>"
                        ],
                        "text/plain": [
                            "RandomizedSearchCV(cv=5, estimator=MultinomialNB(), n_iter=50,\n",
                            "                   param_distributions={'alpha': array([ 0.01      ,  0.53578947,  1.06157895,  1.58736842,  2.11315789,\n",
                            "        2.63894737,  3.16473684,  3.69052632,  4.21631579,  4.74210526,\n",
                            "        5.26789474,  5.79368421,  6.31947368,  6.84526316,  7.37105263,\n",
                            "        7.89684211,  8.42263158,  8.94842105,  9.47421053, 10.        ]),\n",
                            "                                        'force_alpha': [True, False]},\n",
                            "                   random_state=42, scoring='accuracy')"
                        ]
                    },
                    "execution_count": 398,
                    "metadata": {},
                    "output_type": "execute_result"
                }
            ],
            "source": [
                "hyperparams = {\n",
                "    \"alpha\": np.linspace(0.01, 10.0, 20),\n",
                "    \"force_alpha\": [True,False]\n",
                "}\n",
                "\n",
                "random_search = RandomizedSearchCV(model, hyperparams, n_iter = 50, scoring = \"accuracy\", cv = 5, random_state = 42)\n",
                "random_search"
            ]
        },
        {
            "cell_type": "code",
            "execution_count": 399,
            "metadata": {},
            "outputs": [
                {
                    "name": "stderr",
                    "output_type": "stream",
                    "text": [
                        "/home/vscode/.local/lib/python3.11/site-packages/sklearn/model_selection/_search.py:307: UserWarning: The total space of parameters 40 is smaller than n_iter=50. Running 40 iterations. For exhaustive searches, use GridSearchCV.\n",
                        "  warnings.warn(\n"
                    ]
                },
                {
                    "data": {
                        "text/html": [
                            "<style>#sk-container-id-55 {color: black;}#sk-container-id-55 pre{padding: 0;}#sk-container-id-55 div.sk-toggleable {background-color: white;}#sk-container-id-55 label.sk-toggleable__label {cursor: pointer;display: block;width: 100%;margin-bottom: 0;padding: 0.3em;box-sizing: border-box;text-align: center;}#sk-container-id-55 label.sk-toggleable__label-arrow:before {content: \"▸\";float: left;margin-right: 0.25em;color: #696969;}#sk-container-id-55 label.sk-toggleable__label-arrow:hover:before {color: black;}#sk-container-id-55 div.sk-estimator:hover label.sk-toggleable__label-arrow:before {color: black;}#sk-container-id-55 div.sk-toggleable__content {max-height: 0;max-width: 0;overflow: hidden;text-align: left;background-color: #f0f8ff;}#sk-container-id-55 div.sk-toggleable__content pre {margin: 0.2em;color: black;border-radius: 0.25em;background-color: #f0f8ff;}#sk-container-id-55 input.sk-toggleable__control:checked~div.sk-toggleable__content {max-height: 200px;max-width: 100%;overflow: auto;}#sk-container-id-55 input.sk-toggleable__control:checked~label.sk-toggleable__label-arrow:before {content: \"▾\";}#sk-container-id-55 div.sk-estimator input.sk-toggleable__control:checked~label.sk-toggleable__label {background-color: #d4ebff;}#sk-container-id-55 div.sk-label input.sk-toggleable__control:checked~label.sk-toggleable__label {background-color: #d4ebff;}#sk-container-id-55 input.sk-hidden--visually {border: 0;clip: rect(1px 1px 1px 1px);clip: rect(1px, 1px, 1px, 1px);height: 1px;margin: -1px;overflow: hidden;padding: 0;position: absolute;width: 1px;}#sk-container-id-55 div.sk-estimator {font-family: monospace;background-color: #f0f8ff;border: 1px dotted black;border-radius: 0.25em;box-sizing: border-box;margin-bottom: 0.5em;}#sk-container-id-55 div.sk-estimator:hover {background-color: #d4ebff;}#sk-container-id-55 div.sk-parallel-item::after {content: \"\";width: 100%;border-bottom: 1px solid gray;flex-grow: 1;}#sk-container-id-55 div.sk-label:hover label.sk-toggleable__label {background-color: #d4ebff;}#sk-container-id-55 div.sk-serial::before {content: \"\";position: absolute;border-left: 1px solid gray;box-sizing: border-box;top: 0;bottom: 0;left: 50%;z-index: 0;}#sk-container-id-55 div.sk-serial {display: flex;flex-direction: column;align-items: center;background-color: white;padding-right: 0.2em;padding-left: 0.2em;position: relative;}#sk-container-id-55 div.sk-item {position: relative;z-index: 1;}#sk-container-id-55 div.sk-parallel {display: flex;align-items: stretch;justify-content: center;background-color: white;position: relative;}#sk-container-id-55 div.sk-item::before, #sk-container-id-55 div.sk-parallel-item::before {content: \"\";position: absolute;border-left: 1px solid gray;box-sizing: border-box;top: 0;bottom: 0;left: 50%;z-index: -1;}#sk-container-id-55 div.sk-parallel-item {display: flex;flex-direction: column;z-index: 1;position: relative;background-color: white;}#sk-container-id-55 div.sk-parallel-item:first-child::after {align-self: flex-end;width: 50%;}#sk-container-id-55 div.sk-parallel-item:last-child::after {align-self: flex-start;width: 50%;}#sk-container-id-55 div.sk-parallel-item:only-child::after {width: 0;}#sk-container-id-55 div.sk-dashed-wrapped {border: 1px dashed gray;margin: 0 0.4em 0.5em 0.4em;box-sizing: border-box;padding-bottom: 0.4em;background-color: white;}#sk-container-id-55 div.sk-label label {font-family: monospace;font-weight: bold;display: inline-block;line-height: 1.2em;}#sk-container-id-55 div.sk-label-container {text-align: center;}#sk-container-id-55 div.sk-container {/* jupyter's `normalize.less` sets `[hidden] { display: none; }` but bootstrap.min.css set `[hidden] { display: none !important; }` so we also need the `!important` here to be able to override the default hidden behavior on the sphinx rendered scikit-learn.org. See: https://github.com/scikit-learn/scikit-learn/issues/21755 */display: inline-block !important;position: relative;}#sk-container-id-55 div.sk-text-repr-fallback {display: none;}</style><div id=\"sk-container-id-55\" class=\"sk-top-container\"><div class=\"sk-text-repr-fallback\"><pre>MultinomialNB(alpha=1.5873684210526318, force_alpha=True)</pre><b>In a Jupyter environment, please rerun this cell to show the HTML representation or trust the notebook. <br />On GitHub, the HTML representation is unable to render, please try loading this page with nbviewer.org.</b></div><div class=\"sk-container\" hidden><div class=\"sk-item\"><div class=\"sk-estimator sk-toggleable\"><input class=\"sk-toggleable__control sk-hidden--visually\" id=\"sk-estimator-id-93\" type=\"checkbox\" checked><label for=\"sk-estimator-id-93\" class=\"sk-toggleable__label sk-toggleable__label-arrow\">MultinomialNB</label><div class=\"sk-toggleable__content\"><pre>MultinomialNB(alpha=1.5873684210526318, force_alpha=True)</pre></div></div></div></div></div>"
                        ],
                        "text/plain": [
                            "MultinomialNB(alpha=1.5873684210526318, force_alpha=True)"
                        ]
                    },
                    "execution_count": 399,
                    "metadata": {},
                    "output_type": "execute_result"
                }
            ],
            "source": [
                "random_search.fit(X_train, y_train)\n",
                "random_search.best_estimator_"
            ]
        },
        {
            "cell_type": "code",
            "execution_count": 400,
            "metadata": {},
            "outputs": [
                {
                    "name": "stdout",
                    "output_type": "stream",
                    "text": [
                        "{'alpha': 1.5873684210526318, 'class_prior': None, 'fit_prior': True, 'force_alpha': True}\n",
                        "Accuracy: 0.7988826815642458\n"
                    ]
                }
            ],
            "source": [
                "model_2 = MultinomialNB(**random_search.best_params_)\n",
                "\n",
                "model_2.fit(X_train, y_train)\n",
                "y_pred_2 = model.predict(X_test)\n",
                "print(model_2.get_params())\n",
                "print(\"Accuracy:\", accuracy_score(y_test, y_pred_2))\n"
            ]
        },
        {
            "cell_type": "markdown",
            "metadata": {},
            "source": [
                "***We improve the model score***"
            ]
        },
        {
            "cell_type": "markdown",
            "metadata": {},
            "source": [
                "### Save the model"
            ]
        },
        {
            "cell_type": "code",
            "execution_count": 401,
            "metadata": {},
            "outputs": [],
            "source": [
                "dump(model, open(\"/workspaces/JLL_Naive_Bayes_ML/models/naive_bayes_optimized.sav\", \"wb\"))"
            ]
        },
        {
            "cell_type": "markdown",
            "metadata": {},
            "source": [
                "### Exploratory other options"
            ]
        },
        {
            "cell_type": "markdown",
            "metadata": {},
            "source": [
                "***Decision Tree***"
            ]
        },
        {
            "cell_type": "code",
            "execution_count": 402,
            "metadata": {},
            "outputs": [
                {
                    "name": "stdout",
                    "output_type": "stream",
                    "text": [
                        "Accuracy train:  1.0\n",
                        "Accuracy test:  0.7430167597765364\n"
                    ]
                }
            ],
            "source": [
                "model_3 = DecisionTreeClassifier(random_state = 42)\n",
                "model_3.fit(X_train, y_train)\n",
                "y_pred_3 = model_3.predict(X_test)\n",
                "y_pred_train = model_3.predict(X_train)\n",
                "print('Accuracy train: ', accuracy_score(y_pred_train, y_train))\n",
                "print('Accuracy test: ', accuracy_score(y_pred_3, y_test))"
            ]
        },
        {
            "cell_type": "markdown",
            "metadata": {},
            "source": [
                "***Logistic regression***"
            ]
        },
        {
            "cell_type": "code",
            "execution_count": 403,
            "metadata": {},
            "outputs": [
                {
                    "name": "stdout",
                    "output_type": "stream",
                    "text": [
                        "Accuracy train:  0.9985955056179775\n",
                        "Accuracy test:  0.8212290502793296\n"
                    ]
                }
            ],
            "source": [
                "model_4 = LogisticRegression()\n",
                "model_4.fit(X_train, y_train)\n",
                "y_pred_4 = model_4.predict(X_test)\n",
                "y_pred_train = model_4.predict(X_train)\n",
                "print('Accuracy train: ', accuracy_score(y_pred_train, y_train))\n",
                "print('Accuracy test: ', accuracy_score(y_pred_4, y_test))"
            ]
        },
        {
            "cell_type": "markdown",
            "metadata": {},
            "source": [
                "***Random Forest***"
            ]
        },
        {
            "cell_type": "code",
            "execution_count": 404,
            "metadata": {},
            "outputs": [
                {
                    "name": "stdout",
                    "output_type": "stream",
                    "text": [
                        "Accuracy train:  1.0\n",
                        "Accuracy test:  0.8044692737430168\n"
                    ]
                }
            ],
            "source": [
                "model_5 = RandomForestClassifier(random_state = 42)\n",
                "model_5.fit(X_train, y_train)\n",
                "y_pred_5 = model_5.predict(X_test)\n",
                "y_pred_train = model_5.predict(X_train)\n",
                "print('Accuracy train: ', accuracy_score(y_pred_train, y_train))\n",
                "print('Accuracy test: ', accuracy_score(y_pred_5, y_test))"
            ]
        },
        {
            "cell_type": "markdown",
            "metadata": {},
            "source": [
                "***Boosting***"
            ]
        },
        {
            "cell_type": "code",
            "execution_count": 405,
            "metadata": {},
            "outputs": [
                {
                    "name": "stdout",
                    "output_type": "stream",
                    "text": [
                        "Accuracy train:  0.9662921348314607\n",
                        "Accuracy test:  0.770949720670391\n"
                    ]
                }
            ],
            "source": [
                "model_6 = XGBClassifier(random_state = 42)\n",
                "model_6.fit(X_train, y_train)\n",
                "y_pred_6 = model_6.predict(X_test)\n",
                "y_pred_train = model_6.predict(X_train)\n",
                "print('Accuracy train: ', accuracy_score(y_pred_train, y_train))\n",
                "print('Accuracy test: ', accuracy_score(y_pred_6, y_test))"
            ]
        },
        {
            "cell_type": "markdown",
            "metadata": {},
            "source": [
                "*We clearly see how with the ***Logistic Regression*** model we obtain a better analysis. This is because the problem or hypothesis is a single issue and the data is well reflected with the reviews. Our models could be improved if we applied text processing functions.*"
            ]
        },
        {
            "cell_type": "markdown",
            "metadata": {},
            "source": [
                "### Other evaluation with ROC"
            ]
        },
        {
            "cell_type": "code",
            "execution_count": 406,
            "metadata": {},
            "outputs": [
                {
                    "name": "stdout",
                    "output_type": "stream",
                    "text": [
                        "Naive_Bayes Multinomian=0.737\n",
                        "Naive_Bayes Multinomian Optimized=0.737\n",
                        "Decision Tree=0.714\n",
                        "Logistic Regression=0.807\n",
                        "Random Forest=0.796\n",
                        "Boosting=0.744\n"
                    ]
                },
                {
                    "data": {
                        "image/png": "[encoded data removed]",
                        "text/plain": [
                            "<Figure size 640x480 with 1 Axes>"
                        ]
                    },
                    "metadata": {},
                    "output_type": "display_data"
                }
            ],
            "source": [
                "# Calculamos el AUC\n",
                "NB_Multinomian_auc = roc_auc_score(y_test, y_pred)\n",
                "NB_Multinomian_optimized_auc = roc_auc_score(y_test, y_pred_2)\n",
                "Decision_Tree_auc = roc_auc_score(y_test, y_pred_3)\n",
                "Logistic_Regression_auc = roc_auc_score(y_test, y_pred_4)\n",
                "Random_Forest_auc = roc_auc_score(y_test, y_pred_5)\n",
                "Boosting_auc = roc_auc_score(y_test, y_pred_6)\n",
                "\n",
                "# Imprimimos en pantalla\n",
                "print('Naive_Bayes Multinomian=%.3f' % (NB_Multinomian_auc))\n",
                "print('Naive_Bayes Multinomian Optimized=%.3f' % (NB_Multinomian_optimized_auc))\n",
                "print('Decision Tree=%.3f' % (Decision_Tree_auc))\n",
                "print('Logistic Regression=%.3f' % (Logistic_Regression_auc))\n",
                "print('Random Forest=%.3f' % (Random_Forest_auc))\n",
                "print('Boosting=%.3f' % (Boosting_auc))\n",
                "\n",
                "# Calculamos las curvas ROC\n",
                "NBM_fpr, NBM_tpr, _ = roc_curve(y_test, y_pred)\n",
                "NBMO_fpr, NBMO_tpr, _ = roc_curve(y_test, y_pred_2)\n",
                "DT_fpr, DT_tpr, _ = roc_curve(y_test, y_pred_3)\n",
                "LR_fpr, LR_tpr, _ = roc_curve(y_test, y_pred_4)\n",
                "RF_fpr, RF_tpr, _ = roc_curve(y_test, y_pred_5)\n",
                "B_fpr, B_tpr, _ = roc_curve(y_test, y_pred_6)\n",
                "\n",
                "# Pintamos las curvas ROC\n",
                "pyplot.plot(NBM_fpr, NBM_tpr, linestyle='--', color='blue', label='NB Multinomian')\n",
                "pyplot.plot(DT_fpr, DT_tpr, linestyle= ':', marker='o', color= 'green', label='Decision Tree')\n",
                "pyplot.plot(LR_fpr, LR_tpr, marker='^', color= 'brown', label='Logistic Regression')\n",
                "pyplot.plot(RF_fpr, RF_tpr, marker='>', color= 'violet',label='Random Forest')\n",
                "pyplot.plot(B_fpr, B_tpr, marker='<', color= 'grey',label='Boosting')\n",
                "\n",
                "# Etiquetas de los ejes\n",
                "pyplot.xlabel('Tasa de Falsos Positivos')\n",
                "pyplot.ylabel('Tasa de Verdaderos Positivos')\n",
                "pyplot.legend()\n",
                "pyplot.show()"
            ]
        }
    ],
    "metadata": {
        "kernelspec": {
            "display_name": "Python 3.8.13 64-bit ('3.8.13')",
            "language": "python",
            "name": "python3"
        },
        "language_info": {
            "codemirror_mode": {
                "name": "ipython",
                "version": 3
            },
            "file_extension": ".py",
            "mimetype": "text/x-python",
            "name": "python",
            "nbconvert_exporter": "python",
            "pygments_lexer": "ipython3",
            "version": "3.11.4"
        },
        "orig_nbformat": 4,
        "vscode": {
            "interpreter": {
                "hash": "110cc1dee26208153f2972f08a2ad52b6a56238dc66d48e87fb757ef2996db56"
            }
        }
    },
    "nbformat": 4,
    "nbformat_minor": 2
}
